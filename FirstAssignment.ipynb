{
 "cells": [
  {
   "cell_type": "markdown",
   "id": "a99db4ba-8a8a-4b15-9b12-1b6f2243030f",
   "metadata": {},
   "source": [
    "# **Problem 1**"
   ]
  },
  {
   "cell_type": "markdown",
   "id": "75b6486c-f9be-4add-9f17-0232d2c3c759",
   "metadata": {},
   "source": [
    "## *Introduction (all – total: 7 - max points: 75)*"
   ]
  },
  {
   "cell_type": "markdown",
   "id": "cbea82e0-dffa-4b6f-85f2-5268e0664a2e",
   "metadata": {},
   "source": [
    "### Say \"Hello, World!\" With Python"
   ]
  },
  {
   "cell_type": "code",
   "execution_count": null,
   "id": "e367e334-e48c-4477-b71f-751191f138e8",
   "metadata": {},
   "outputs": [],
   "source": [
    "print(\"Hello, World!\")"
   ]
  },
  {
   "cell_type": "markdown",
   "id": "20f5414c-295d-4c59-afd3-a683ae36c0a5",
   "metadata": {},
   "source": [
    "### Python If-Else"
   ]
  },
  {
   "cell_type": "code",
   "execution_count": null,
   "id": "f7e73e81-9115-493e-b93f-9ff0caa5b486",
   "metadata": {},
   "outputs": [],
   "source": [
    "n = int(input())\n",
    "\n",
    "if n % 2 != 0:\n",
    "    print('Weird')\n",
    "if n % 2 == 0:\n",
    "    if 1 < n < 6:\n",
    "        print('Not Weird')\n",
    "    elif  5 < n < 21:\n",
    "        print('Weird')\n",
    "    else:\n",
    "        print('Not Weird')"
   ]
  },
  {
   "cell_type": "markdown",
   "id": "6874e7c4-845b-4fe8-bc9d-062895f71411",
   "metadata": {},
   "source": [
    "### Arithmetic Operators"
   ]
  },
  {
   "cell_type": "code",
   "execution_count": null,
   "id": "e28c0a79-e451-4c1c-8e67-adda60cb5fd1",
   "metadata": {},
   "outputs": [],
   "source": [
    "if __name__ == '__main__':\n",
    "    a = int(input())\n",
    "    b = int(input())\n",
    "    print(a+b)\n",
    "    print(a-b)\n",
    "    print(a*b)"
   ]
  },
  {
   "cell_type": "markdown",
   "id": "78d2a20e-112b-438d-9414-52f4e4776189",
   "metadata": {},
   "source": [
    "### Python: Division"
   ]
  },
  {
   "cell_type": "code",
   "execution_count": null,
   "id": "7e6dfa86-0208-433c-9ea0-4d93c4986e7d",
   "metadata": {},
   "outputs": [],
   "source": [
    "if __name__ == '__main__':\n",
    "    a = int(input())\n",
    "    b = int(input())\n",
    "    print(a//b)\n",
    "    print(float(a/b))"
   ]
  },
  {
   "cell_type": "markdown",
   "id": "03915c56-3905-46f2-b09d-4d799b84b208",
   "metadata": {},
   "source": [
    "### Loops"
   ]
  },
  {
   "cell_type": "code",
   "execution_count": null,
   "id": "f8f02715-417e-45d9-afa6-ef468b513d59",
   "metadata": {},
   "outputs": [],
   "source": [
    "n = int(input())\n",
    "for i in range(n):\n",
    "    print(i**2)"
   ]
  },
  {
   "cell_type": "markdown",
   "id": "d1957c36-e8ed-4169-909f-997fb1b38710",
   "metadata": {},
   "source": [
    "### Write a function"
   ]
  },
  {
   "cell_type": "code",
   "execution_count": null,
   "id": "83e20dae-db58-4629-8f99-9adf04d91ad8",
   "metadata": {},
   "outputs": [],
   "source": [
    "def is_leap(year):\n",
    "    leap = False\n",
    "    if year % 4 == 0:\n",
    "        leap = True\n",
    "    if year % 100 == 0 and year % 400 != 0:\n",
    "        leap = False\n",
    "    if year % 100 == 0 and year % 400 == 0:\n",
    "        leap = True\n",
    "    \n",
    "    return leap"
   ]
  },
  {
   "cell_type": "markdown",
   "id": "06f5971b-c7df-4063-bbe3-e17df669a9ea",
   "metadata": {},
   "source": [
    "### Print Function"
   ]
  },
  {
   "cell_type": "code",
   "execution_count": null,
   "id": "51ee9832-4f7f-47a1-8cef-d2b79f0c8469",
   "metadata": {},
   "outputs": [],
   "source": [
    "if __name__ == '__main__':\n",
    "    n = int(input()) \n",
    "    num=[]\n",
    "    for i in range(1,n+1):\n",
    "        print(i, end='')"
   ]
  },
  {
   "cell_type": "markdown",
   "id": "dd9549bb-f6b7-447c-9ac4-86dbc31de169",
   "metadata": {},
   "source": [
    "## *Data types (all – total: 6 - max points: 60)*"
   ]
  },
  {
   "cell_type": "markdown",
   "id": "d9fb4162-b3a8-4b8f-a585-3ca7051918f3",
   "metadata": {},
   "source": [
    "### List Comprehensions"
   ]
  },
  {
   "cell_type": "code",
   "execution_count": null,
   "id": "2a1ee64f-4651-41cb-a604-03c4797b8eb5",
   "metadata": {},
   "outputs": [],
   "source": [
    "if __name__ == '__main__':\n",
    "    x = int(input())\n",
    "    y = int(input())\n",
    "    z = int(input())\n",
    "    n = int(input())\n",
    "    print([[xi,yi,zi] for xi in range(x+1) for yi in range(y+1) for zi in range(z+1) if sum([xi,yi,zi]) != n])"
   ]
  },
  {
   "cell_type": "markdown",
   "id": "35bed552-ec38-4ccf-8bab-75adb4805011",
   "metadata": {},
   "source": [
    "### Find the Runner-Up Score!"
   ]
  },
  {
   "cell_type": "code",
   "execution_count": null,
   "id": "f1156b18-793a-41a9-a2bc-9eccc2f03528",
   "metadata": {},
   "outputs": [],
   "source": [
    "if __name__ == '__main__':\n",
    "    n = int(input())\n",
    "    arr = map(int, input().split())\n",
    "    sortedd=set(sorted(list(arr)))\n",
    "    top=max(sortedd)\n",
    "    sortedd.remove(top)\n",
    "    print(max(sortedd))"
   ]
  },
  {
   "cell_type": "markdown",
   "id": "76baa25a-3d38-4ae1-a020-8a44c64d82e0",
   "metadata": {},
   "source": [
    "### Nested Lists"
   ]
  },
  {
   "cell_type": "code",
   "execution_count": null,
   "id": "c8d723c3-f1f1-4ba1-91bf-0c5b90113b2c",
   "metadata": {},
   "outputs": [],
   "source": [
    "lista=[]\n",
    "if __name__ == '__main__':\n",
    "    for _ in range(int(input())):\n",
    "        name = input()\n",
    "        score = float(input())\n",
    "        lista.append((float(score),str(name)))\n",
    "vote=100\n",
    "names=[]\n",
    "names2=[]\n",
    "for i in lista:\n",
    "    if i[0] < vote:\n",
    "        vote=i[0]\n",
    "for i in lista:\n",
    "    if vote < i[0]:\n",
    "        names.append(i)\n",
    "vote2=101\n",
    "for i in names:\n",
    "    if i[0] < vote2:\n",
    "        vote2=i[0]\n",
    "for i in lista:\n",
    "    if i[0] == vote2:\n",
    "        names2.append(i[1])\n",
    "names2.sort()\n",
    "for i in names2:\n",
    "    print (i)\n",
    "        "
   ]
  },
  {
   "cell_type": "markdown",
   "id": "1390112a-19b8-4c3c-9d13-349079bff670",
   "metadata": {},
   "source": [
    "### Finding the percentage"
   ]
  },
  {
   "cell_type": "code",
   "execution_count": null,
   "id": "772ddb76-9a16-40f5-8d14-22dfe1c57353",
   "metadata": {},
   "outputs": [],
   "source": [
    "if __name__ == '__main__':\n",
    "    n = int(input())\n",
    "    student_marks = {}\n",
    "    for _ in range(n):\n",
    "        name, *line = input().split()\n",
    "        scores = list(map(float, line))\n",
    "        student_marks[name] = scores\n",
    "    query_name = input()\n",
    "mean=0\n",
    "for i in student_marks:\n",
    "    if query_name == i:\n",
    "        for c in list(student_marks[i]):\n",
    "            mean=mean+c\n",
    "print(\"{:.2f}\".format(mean/3))\n",
    "            "
   ]
  },
  {
   "cell_type": "markdown",
   "id": "afd65842-2749-44a5-bf39-482ed820264d",
   "metadata": {},
   "source": [
    "### Lists"
   ]
  },
  {
   "cell_type": "code",
   "execution_count": null,
   "id": "ce373e36-5fd5-40a8-9dba-d845ae05d1b4",
   "metadata": {},
   "outputs": [],
   "source": [
    "if __name__ == '__main__':\n",
    "    lista=[]\n",
    "    for_insert=[]\n",
    "    Main=[]\n",
    "    N = int(input())\n",
    "    for i in range(N):\n",
    "        a=input()\n",
    "        lista.append(a)\n",
    "    for i in lista:\n",
    "        if 'insert' in i:\n",
    "            for c in i.split():\n",
    "                if c.isdigit():\n",
    "                    for_insert.append(int(c))\n",
    "            Main.insert(for_insert[0],for_insert[1]) \n",
    "        for_insert=[]\n",
    "        if 'remove' in i:\n",
    "            for c in i.split():\n",
    "                if c.isdigit():\n",
    "                    Main.remove(int(c))\n",
    "        if 'print' in i:\n",
    "            print(Main)\n",
    "        if 'append' in i:\n",
    "            for c in i.split():\n",
    "                if c.isdigit():\n",
    "                    Main.append(int(c))\n",
    "        if 'sort' in i:\n",
    "            Main.sort()\n",
    "        if 'reverse' in i:\n",
    "            Main.reverse()\n",
    "        if 'pop' in i:\n",
    "            Main.pop()"
   ]
  },
  {
   "cell_type": "markdown",
   "id": "2b3e6cf4",
   "metadata": {},
   "source": [
    "### Tuples"
   ]
  },
  {
   "cell_type": "code",
   "execution_count": null,
   "id": "ba5e9dcd",
   "metadata": {},
   "outputs": [],
   "source": [
    "if __name__ == '__main__':\n",
    "    n = int(input())\n",
    "    integer_list = map(int, input().split())\n",
    "    t=tuple(integer_list)[:n] \n",
    "    print(hash(t))\n",
    "\n",
    "# I've read the discussion because it was returning me a wrong \n",
    "# value when actually the code was right, i was using the wrong \n",
    "# language and now i switched to PyPy3"
   ]
  },
  {
   "cell_type": "markdown",
   "id": "45891f8c",
   "metadata": {},
   "source": [
    "## *Strings (all – total: 14 - max points: 220)*"
   ]
  },
  {
   "cell_type": "markdown",
   "id": "f9ff76f2",
   "metadata": {},
   "source": [
    "### sWAP cASE"
   ]
  },
  {
   "cell_type": "code",
   "execution_count": null,
   "id": "cc936cf6",
   "metadata": {},
   "outputs": [],
   "source": [
    "def swap_case(s):\n",
    "    string=''\n",
    "    for i in s:\n",
    "        if i.isupper():\n",
    "            string=string+i.lower()\n",
    "        else:\n",
    "            string=string+i.upper()\n",
    "    return string"
   ]
  },
  {
   "cell_type": "markdown",
   "id": "cd8042ad",
   "metadata": {},
   "source": [
    "### String Split and Join"
   ]
  },
  {
   "cell_type": "code",
   "execution_count": null,
   "id": "1e1ed1b5",
   "metadata": {},
   "outputs": [],
   "source": [
    "def split_and_join(line):\n",
    "    new = '-'.join(line.split())\n",
    "    return new\n",
    "    "
   ]
  },
  {
   "cell_type": "markdown",
   "id": "80e0fa36",
   "metadata": {},
   "source": [
    "### What's Your Name?"
   ]
  },
  {
   "cell_type": "code",
   "execution_count": null,
   "id": "c7b15f18",
   "metadata": {},
   "outputs": [],
   "source": [
    "def print_full_name(first, last):\n",
    "    print(\"Hello\", first, last+'!',\"You just delved into python.\")"
   ]
  },
  {
   "cell_type": "markdown",
   "id": "65d4df9c",
   "metadata": {},
   "source": [
    "### Mutations"
   ]
  },
  {
   "cell_type": "code",
   "execution_count": null,
   "id": "6fe75a25",
   "metadata": {},
   "outputs": [],
   "source": [
    "def mutate_string(string, position, character):\n",
    "    string=string[:position]+character+string[position+1:]\n",
    "    \n",
    "    \n",
    "    return string"
   ]
  },
  {
   "cell_type": "markdown",
   "id": "056bf503",
   "metadata": {},
   "source": [
    "### Find a string"
   ]
  },
  {
   "cell_type": "code",
   "execution_count": null,
   "id": "f53e21e2",
   "metadata": {},
   "outputs": [],
   "source": [
    "def count_substring(string, sub_string):\n",
    "    count = 0\n",
    "    for i in range(len(string) - len(sub_string) + 1):\n",
    "        if string[i:len(sub_string) + i] == sub_string:\n",
    "            count += 1\n",
    "    return count"
   ]
  },
  {
   "cell_type": "markdown",
   "id": "af7164b0",
   "metadata": {},
   "source": [
    "### String Validators"
   ]
  },
  {
   "cell_type": "code",
   "execution_count": null,
   "id": "9043f391",
   "metadata": {},
   "outputs": [],
   "source": [
    "if __name__ == '__main__':\n",
    "    s = input()\n",
    "    \n",
    "    countAlphaNum=0\n",
    "    countAlpha=0\n",
    "    countDigits=0\n",
    "    countUpper=0\n",
    "    countLower=0\n",
    "    \n",
    "    for i in s:\n",
    "        if i.isalnum():\n",
    "            countAlphaNum+=1\n",
    "            "
   ]
  },
  {
   "cell_type": "markdown",
   "id": "b95fab70",
   "metadata": {},
   "source": [
    "### Text Alignment"
   ]
  },
  {
   "cell_type": "code",
   "execution_count": null,
   "id": "f85c8aaa",
   "metadata": {},
   "outputs": [],
   "source": [
    "thickness = int(input()) #This must be an odd number\n",
    "c = 'H'\n",
    "\n",
    "#Top Cone\n",
    "for i in range(thickness):\n",
    "    print((c*i).rjust(thickness-1)+c+(c*i).ljust(thickness-1))\n",
    "\n",
    "#Top Pillars\n",
    "for i in range(thickness+1):\n",
    "    print((c*thickness).center(thickness*2)+(c*thickness).center(thickness*6))\n",
    "\n",
    "#Middle Belt\n",
    "for i in range((thickness+1)//2):\n",
    "    print((c*thickness*5).center(thickness*6))    \n",
    "\n",
    "#Bottom Pillars\n",
    "for i in range(thickness+1):\n",
    "    print((c*thickness).center(thickness*2)+(c*thickness).center(thickness*6))    \n",
    "\n",
    "#Bottom Cone\n",
    "for i in range(thickness):\n",
    "    print(((c*(thickness-i-1)).rjust(thickness)+c+(c*(thickness-i-1)).ljust(thickness)).rjust(thickness*6))"
   ]
  },
  {
   "cell_type": "markdown",
   "id": "409a173b",
   "metadata": {},
   "source": [
    "### Text Wrap"
   ]
  },
  {
   "cell_type": "code",
   "execution_count": null,
   "id": "8b1dd9c5",
   "metadata": {},
   "outputs": [],
   "source": [
    "def wrap(string, max_width):\n",
    "    new=textwrap.wrap(string,max_width)\n",
    "    return '\\n'.join(new)\n",
    "    "
   ]
  },
  {
   "cell_type": "markdown",
   "id": "dc8c76a4",
   "metadata": {},
   "source": [
    "### Designer Door Mat"
   ]
  },
  {
   "cell_type": "code",
   "execution_count": null,
   "id": "be1decb6",
   "metadata": {},
   "outputs": [],
   "source": [
    "N, M= (input()).split()\n",
    "for i in range(int(int(N)/2)):\n",
    "    print ('-'*int(((int(int(M)-3)/2))-i*3)+'.|.'*(1+i*2)+ '-'*int(((int(int(M)-3)/2))-i*3))\n",
    "print ('-'*int((int(M)- 7)/2)+'WELCOME'+'-'*int((int(M)-7)/2))\n",
    "for i in range(int(int(N)/2)):\n",
    "    print ('-'*(3+i*3)+'.|.'*(int(N)-2-i*2)+'-'*(3+i*3))\n",
    "        \n"
   ]
  },
  {
   "cell_type": "markdown",
   "id": "39a6245b",
   "metadata": {},
   "source": [
    "### String Formatting"
   ]
  },
  {
   "cell_type": "code",
   "execution_count": null,
   "id": "6fb9a9d6",
   "metadata": {},
   "outputs": [],
   "source": [
    "def print_formatted(number):\n",
    "    n=number\n",
    "    k=(len(str(bin(n)[2:]))+1)\n",
    "    for i in range(1,n+1):\n",
    "        print((str(i).rjust(k-1)+str(oct(i)[2:]).rjust(k)+str((hex(i)[2:]).upper()).rjust(k)+str(bin(i)[2:]).rjust(k)))\n"
   ]
  },
  {
   "cell_type": "markdown",
   "id": "04ce93ad",
   "metadata": {},
   "source": [
    "### Alphabet Rangoli"
   ]
  },
  {
   "cell_type": "code",
   "execution_count": null,
   "id": "b1fe5adb",
   "metadata": {},
   "outputs": [],
   "source": [
    "def print_rangoli(size):\n",
    "    alpha='abcdefghijklmnopqrstuvwxyz'\n",
    "    L = []\n",
    "    for i in range(n):\n",
    "        s = \"-\".join(alpha[i:n])\n",
    "        L.append((s[::-1]+s[1:]).center(4*n-3, \"-\"))\n",
    "    print('\\n'.join(L[:0:-1]+L))\n"
   ]
  },
  {
   "cell_type": "markdown",
   "id": "d9c60ba3",
   "metadata": {},
   "source": [
    "### Capitalize!"
   ]
  },
  {
   "cell_type": "code",
   "execution_count": null,
   "id": "53962766",
   "metadata": {},
   "outputs": [],
   "source": [
    "def solve(s):\n",
    "    ss=''\n",
    "    for i in range(len(s)):\n",
    "        if s[i] ==' ' and s[i+1]!= ' ':\n",
    "            ss=ss+' '+s[i+1].upper()\n",
    "        if s[i] != ' ' and s[i-1] != ' ':\n",
    "            ss=ss+s[i]\n",
    "        if s[i] == ' ' and s[i+1] == ' ':\n",
    "            ss=ss+' '\n",
    "        \n",
    "    return ss[0].upper()+ss[1:]"
   ]
  },
  {
   "cell_type": "markdown",
   "id": "bbb2ee8a",
   "metadata": {},
   "source": [
    "### The Minion Game"
   ]
  },
  {
   "cell_type": "code",
   "execution_count": null,
   "id": "8a3104b5",
   "metadata": {},
   "outputs": [],
   "source": [
    "def minion_game(s):\n",
    "    # your code goes here\n",
    "    Stuart=0\n",
    "    Kevin=0\n",
    "    vow='AEIOU'\n",
    "    \n",
    "    for i in range(len(s)):\n",
    "        if s[i] in vow:\n",
    "                Kevin+=len(s[i:])\n",
    "        if s[i] not in vow:\n",
    "                Stuart+=len(s[i:])\n",
    "                \n",
    "                \n",
    "    if Stuart > Kevin:\n",
    "        print(\"Stuart\",Stuart)\n",
    "    elif Stuart < Kevin:\n",
    "        print(\"Kevin\",Kevin)\n",
    "    else:\n",
    "        print(\"Draw\")"
   ]
  },
  {
   "cell_type": "markdown",
   "id": "1014161b",
   "metadata": {},
   "source": [
    "### Merge the Tools!"
   ]
  },
  {
   "cell_type": "code",
   "execution_count": null,
   "id": "ae482ade",
   "metadata": {},
   "outputs": [],
   "source": [
    "def merge_the_tools(string, k):\n",
    "    # your code goes here\n",
    "    new=[]\n",
    "    new2=[]\n",
    "    new3=''\n",
    "    l=(len(string)/k)\n",
    "    for i in string:\n",
    "        new.append(i)\n",
    "    for i in range(1,int(l)+1):\n",
    "        new2.append(list((new[k*i-k:(i*k)])))\n",
    "        for i in ''.join(new[k*i-k:(i*k)]):\n",
    "            if i not in new3:\n",
    "                new3=new3+i\n",
    "        print(new3)\n",
    "        new3=''"
   ]
  },
  {
   "cell_type": "markdown",
   "id": "5ae2a1d1",
   "metadata": {},
   "source": [
    "## *Sets (all – total: 13 - max points: 170)*"
   ]
  },
  {
   "cell_type": "markdown",
   "id": "481010de",
   "metadata": {},
   "source": [
    "### Introduction to Sets"
   ]
  },
  {
   "cell_type": "code",
   "execution_count": null,
   "id": "432e83e1",
   "metadata": {},
   "outputs": [],
   "source": [
    "def average(array):\n",
    "    # your code goes here\n",
    "    summa=sum(set(array))\n",
    "    n=len(set(array))\n",
    "    average=summa/n\n",
    "    return average"
   ]
  },
  {
   "cell_type": "markdown",
   "id": "7e2211ea",
   "metadata": {},
   "source": [
    "### No Idea!"
   ]
  },
  {
   "cell_type": "code",
   "execution_count": null,
   "id": "db325721",
   "metadata": {},
   "outputs": [],
   "source": [
    "# Enter your code here. Read input from STDIN. Print output to STDOUT\n",
    "m,n=map(int,input().split())\n",
    "arr=(map(int,input().split()))\n",
    "A=set(map(int,input().split()))\n",
    "B=set(map(int,input().split()))\n",
    "happiness=0\n",
    "for i in arr:\n",
    "    if i in A:\n",
    "        happiness+=1\n",
    "    if i in B:\n",
    "        happiness-=1\n",
    "    if i not in A and i not in B:\n",
    "        happiness+=0\n",
    "print(happiness)\n"
   ]
  },
  {
   "cell_type": "markdown",
   "id": "ec820c6c",
   "metadata": {},
   "source": [
    "### Symmetric Difference"
   ]
  },
  {
   "cell_type": "code",
   "execution_count": null,
   "id": "0a6ed365",
   "metadata": {},
   "outputs": [],
   "source": [
    "# Enter your code here. Read input from STDIN. Print output to STDOUT\n",
    "M=input()\n",
    "s1=set(map(int,input().split()))\n",
    "N=input()\n",
    "s2=set(map(int,input().split()))\n",
    "s3=s1^s2\n",
    "s4=sorted(s3)\n",
    "for i in s4:\n",
    "    print (i)"
   ]
  },
  {
   "cell_type": "markdown",
   "id": "d72a5602",
   "metadata": {},
   "source": [
    "### Set .add()"
   ]
  },
  {
   "cell_type": "code",
   "execution_count": null,
   "id": "b84b98fb",
   "metadata": {},
   "outputs": [],
   "source": [
    "# Enter your code here. Read input from STDIN. Print output to STDOUT\n",
    "N=int(input())\n",
    "stamps=set()\n",
    "count=0\n",
    "for i in range(N):\n",
    "    stamps.add(input())\n",
    "for i in stamps:\n",
    "    count+=1\n",
    "print (count)"
   ]
  },
  {
   "cell_type": "markdown",
   "id": "abeeb084",
   "metadata": {},
   "source": [
    "### Set .discard(), .remove() & .pop()"
   ]
  },
  {
   "cell_type": "code",
   "execution_count": null,
   "id": "6048d2b6",
   "metadata": {},
   "outputs": [],
   "source": [
    "n = int(input())\n",
    "s = set(map(int, input().split()))\n",
    "N= int(input())\n",
    "for i in range(N):\n",
    "    a=list(input().split())\n",
    "    if 'pop' in a:\n",
    "        s.pop()\n",
    "    if 'remove' in a:\n",
    "            s.remove(int(a[1]))\n",
    "    if 'discard' in a:\n",
    "            s.discard(int(a[1]))\n",
    "\n",
    "print(sum(s))"
   ]
  },
  {
   "cell_type": "markdown",
   "id": "8a4cd784",
   "metadata": {},
   "source": [
    "### Set .union() Operation"
   ]
  },
  {
   "cell_type": "code",
   "execution_count": null,
   "id": "91db32cc",
   "metadata": {},
   "outputs": [],
   "source": [
    "# Enter your code here. Read input from STDIN. Print output to STDOUT\n",
    "n_eng=int(input())\n",
    "stud_eng=set(map(int,input().split()))\n",
    "n_fre=int(input())\n",
    "stud_fre=set(map(int,input().split()))\n",
    "lis=set()\n",
    "count=0\n",
    "for i in stud_eng:\n",
    "    if i not in lis:\n",
    "        lis.add(i)\n",
    "for i in stud_fre:\n",
    "    if i not in lis:\n",
    "        lis.add(i)\n",
    "for i in lis:\n",
    "    if i in stud_eng or i in stud_fre:\n",
    "        count+=1\n",
    "print(count)"
   ]
  },
  {
   "cell_type": "markdown",
   "id": "22565913",
   "metadata": {},
   "source": [
    "### Set .intersection() Operation"
   ]
  },
  {
   "cell_type": "code",
   "execution_count": null,
   "id": "7cc3add7",
   "metadata": {},
   "outputs": [],
   "source": [
    "# Enter your code here. Read input from STDIN. Print output to STDOUT\n",
    "n_eng=int(input())\n",
    "stud_eng=set(map(int,input().split()))\n",
    "n_fre=int(input())\n",
    "stud_fre=set(map(int,input().split()))\n",
    "lis=set()\n",
    "count=0\n",
    "for i in stud_fre:\n",
    "        if i in stud_eng:\n",
    "            count+=1\n",
    "print(count)"
   ]
  },
  {
   "cell_type": "markdown",
   "id": "8e7ee27e",
   "metadata": {},
   "source": [
    "### Set .difference() Operation"
   ]
  },
  {
   "cell_type": "code",
   "execution_count": null,
   "id": "fc3d29ef",
   "metadata": {},
   "outputs": [],
   "source": [
    "# Enter your code here. Read input from STDIN. Print output to STDOUT\n",
    "n_eng=int(input())\n",
    "stud_eng=set(map(int,input().split()))\n",
    "n_fre=int(input())\n",
    "stud_fre=set(map(int,input().split()))\n",
    "lis=set()\n",
    "count=0\n",
    "for i in stud_eng:\n",
    "        if i not in stud_fre:\n",
    "            count+=1\n",
    "print(count)"
   ]
  },
  {
   "cell_type": "markdown",
   "id": "17dba4a0",
   "metadata": {},
   "source": [
    "### Set .symmetric_difference() Operation"
   ]
  },
  {
   "cell_type": "code",
   "execution_count": null,
   "id": "b9dcbde2",
   "metadata": {},
   "outputs": [],
   "source": [
    "# Enter your code here. Read input from STDIN. Print output to STDOUT\n",
    "n_eng=int(input())\n",
    "stud_eng=set(map(int,input().split()))\n",
    "n_fre=int(input())\n",
    "stud_fre=set(map(int,input().split()))\n",
    "lis=set()\n",
    "count=0\n",
    "for i in stud_fre:\n",
    "        if i not in stud_eng:\n",
    "            count+=1\n",
    "for i in stud_eng:\n",
    "        if i not in stud_fre:\n",
    "            count+=1\n",
    "print(count)"
   ]
  },
  {
   "cell_type": "markdown",
   "id": "b19cefed",
   "metadata": {},
   "source": [
    "### Set Mutations"
   ]
  },
  {
   "cell_type": "code",
   "execution_count": null,
   "id": "1074f4a6",
   "metadata": {},
   "outputs": [],
   "source": [
    "# Enter your code here. Read input from STDIN. Print output to STDOUT\n",
    "n=int(input())\n",
    "A = set(map(int,input().split()))\n",
    "N = int(input())\n",
    "for i in range(N):\n",
    "    s = list(input().split())\n",
    "    sett=set(map(int,input().split()))\n",
    "    if 'intersection_update' in s:\n",
    "        A.intersection_update(sett)\n",
    "    if 'update' in s:\n",
    "        A.update(sett)\n",
    "    if 'difference_update' in s:\n",
    "        A.difference_update(sett)\n",
    "    if 'symmetric_difference_update' in s:\n",
    "        A.symmetric_difference_update(sett)\n",
    "print(sum(A))"
   ]
  },
  {
   "cell_type": "markdown",
   "id": "f7ed0a13",
   "metadata": {},
   "source": [
    "### The Captain's Room"
   ]
  },
  {
   "cell_type": "code",
   "execution_count": null,
   "id": "599deb54",
   "metadata": {},
   "outputs": [],
   "source": [
    "# Enter your code here. Read input from STDIN. Print output to STDOUT\n",
    "from collections import defaultdict\n",
    "\n",
    "k=int(input())\n",
    "families=list(map(int,input().split()))\n",
    "d=defaultdict(int)\n",
    "for i in families:\n",
    "    d[i]+=1\n",
    "val=100\n",
    "key2=''\n",
    "for key,value in d.items():\n",
    "    if value < val:\n",
    "        val = value\n",
    "        key2=key\n",
    "    \n",
    "    \n",
    "print(key2)\n",
    "\n",
    "\n",
    "#I know i should have use \"Sets\" as the file says, but \n",
    "# using dictionary seemed faster and more efficient"
   ]
  },
  {
   "cell_type": "markdown",
   "id": "d72151f8",
   "metadata": {},
   "source": [
    "### Check Subset"
   ]
  },
  {
   "cell_type": "code",
   "execution_count": null,
   "id": "aa7040f3",
   "metadata": {},
   "outputs": [],
   "source": [
    "T=int(input())\n",
    "for i in range(T):\n",
    "    n_A=int(input())\n",
    "    A=set(map(int,input().split()))\n",
    "    n_B=int(input())\n",
    "    B=set(map(int,input().split()))\n",
    "    count=0\n",
    "    for i in A:\n",
    "        if i in B:\n",
    "            count+=1\n",
    "    if count == n_A:\n",
    "            print(True)\n",
    "    else:\n",
    "            print(False)\n"
   ]
  },
  {
   "cell_type": "markdown",
   "id": "56f665ea",
   "metadata": {},
   "source": [
    "### Check Strict Superset"
   ]
  },
  {
   "cell_type": "code",
   "execution_count": null,
   "id": "04b203d2",
   "metadata": {},
   "outputs": [],
   "source": [
    "# Enter your code here. Read input from STDIN. Print output to STDOUT\n",
    "A=set(map(int,input().split()))\n",
    "n=int(input())\n",
    "result=0\n",
    "for i in range(n):\n",
    "    B=set(map(int,input().split()))\n",
    "    if len(A) > len(B):\n",
    "        count=0\n",
    "        for j in B:\n",
    "            if j in A:\n",
    "                count+=1\n",
    "        if count == len(B):\n",
    "            result+=1\n",
    "if result == n:\n",
    "    print(True)"
   ]
  },
  {
   "cell_type": "markdown",
   "id": "4ddac079",
   "metadata": {},
   "source": [
    "## *Collections (all – total: 8 - max points: 220)*"
   ]
  },
  {
   "cell_type": "markdown",
   "id": "096f9100",
   "metadata": {},
   "source": [
    "### DefaultDict Tutorial"
   ]
  },
  {
   "cell_type": "code",
   "execution_count": null,
   "id": "d4163a2f",
   "metadata": {},
   "outputs": [],
   "source": [
    "# Enter your code here. Read input from STDIN. Print output to STDOUT\n",
    "\n",
    "from collections import defaultdict\n",
    "n, m = map(int, input().strip().split())\n",
    "A = defaultdict(list)\n",
    "for i in range(1, n+1):\n",
    "    A[input()].append(i)\n",
    "for j in range(m):\n",
    "    k = input()\n",
    "    if A[k]:\n",
    "        print(*A[k])\n",
    "    else:\n",
    "        print(-1) \n"
   ]
  },
  {
   "cell_type": "markdown",
   "id": "6f547f94",
   "metadata": {},
   "source": [
    "### collections.Counter()"
   ]
  },
  {
   "cell_type": "code",
   "execution_count": null,
   "id": "f43f819b",
   "metadata": {},
   "outputs": [],
   "source": [
    "# Enter your code here. Read input from STDIN. Print output to STDOUT\n",
    "from collections import Counter\n",
    "X=int(input())\n",
    "shoes=list(map(int,input().split()))\n",
    "n=int(input())\n",
    "total=0\n",
    "for i in range(n):\n",
    "    num_price=list(map(int,input().split()))\n",
    "    if num_price[0] in shoes:\n",
    "        shoes.remove(num_price[0])\n",
    "        total+=num_price[1]\n",
    "print (total)"
   ]
  },
  {
   "cell_type": "markdown",
   "id": "7fb3ce05",
   "metadata": {},
   "source": [
    "### Collections.namedtuple()"
   ]
  },
  {
   "cell_type": "code",
   "execution_count": null,
   "id": "785bffc0",
   "metadata": {},
   "outputs": [],
   "source": [
    "# Enter your code here. Read input from STDIN. Print output to STDOUT\n",
    "from collections import namedtuple\n",
    "n, total=int(input()), 0\n",
    "Marks = namedtuple('Marks',input())\n",
    "for i in range(n): total+=int((Marks(*(input().split()))).MARKS) \n",
    "print(total/n)"
   ]
  },
  {
   "cell_type": "markdown",
   "id": "3149cbdc",
   "metadata": {},
   "source": [
    "### Collections.OrderedDict()"
   ]
  },
  {
   "cell_type": "code",
   "execution_count": null,
   "id": "0aac9a5c",
   "metadata": {},
   "outputs": [],
   "source": [
    "# Enter your code here. Read input from STDIN. Print output to STDOUT\n",
    "from collections import OrderedDict\n",
    "N=int(input())\n",
    "d={}\n",
    "for i in range(N):\n",
    "    order=list(map(str,(input().split())))\n",
    "    name=' '.join(order[:len(order)-1])\n",
    "    if name not in d:\n",
    "        d[name] = int(order[-1])\n",
    "    else:\n",
    "        d[name] += int(order[-1])\n",
    "for key, values in d.items():\n",
    "    print (key, values)\n"
   ]
  },
  {
   "cell_type": "markdown",
   "id": "c8bb6393",
   "metadata": {},
   "source": [
    "### Word Order"
   ]
  },
  {
   "cell_type": "code",
   "execution_count": null,
   "id": "31276966",
   "metadata": {},
   "outputs": [],
   "source": [
    "# Enter your code here. Read input from STDIN. Print output to STDOUT\n",
    "from collections import defaultdict\n",
    "n=int(input())\n",
    "d=defaultdict(list)\n",
    "for i in range(n):\n",
    "    s=input()\n",
    "    if s not in d:\n",
    "        d[s]=0\n",
    "    if s in d:\n",
    "        d[s]+=1\n",
    "        \n",
    "count=0\n",
    "for j in d.keys():\n",
    "    count+=1\n",
    "print(count)\n",
    "for i in d.values():\n",
    "    print(i, end=' ')"
   ]
  },
  {
   "cell_type": "markdown",
   "id": "1cec3a9d",
   "metadata": {},
   "source": [
    "### Collections.deque()"
   ]
  },
  {
   "cell_type": "code",
   "execution_count": null,
   "id": "49ef0944",
   "metadata": {},
   "outputs": [],
   "source": [
    "# Enter your code here. Read input from STDIN. Print output to STDOUT\n",
    "from collections import deque\n",
    "N=int(input())\n",
    "result=deque()\n",
    "for i in range(N):\n",
    "    s=list(input().split())\n",
    "    if 'append' in s:\n",
    "        result.append(int(s[1]))\n",
    "    if 'appendleft' in s:\n",
    "        result.appendleft(int(s[1]))\n",
    "    if 'popleft' in s:\n",
    "        result.popleft()\n",
    "    if 'pop' in s:\n",
    "        result.pop()\n",
    "for i in result:\n",
    "    print (i, end=' ')\n",
    "    "
   ]
  },
  {
   "cell_type": "markdown",
   "id": "43ad773e",
   "metadata": {},
   "source": [
    "### Company Logo "
   ]
  },
  {
   "cell_type": "code",
   "execution_count": null,
   "id": "547b0cc0",
   "metadata": {},
   "outputs": [],
   "source": [
    "#!/bin/python3\n",
    "\n",
    "import math\n",
    "import os\n",
    "import random\n",
    "import re\n",
    "import sys\n",
    "from collections import defaultdict\n",
    "\n",
    "\n",
    "if __name__ == '__main__':\n",
    "    s = input()\n",
    "ss=[]\n",
    "d=defaultdict(dict)\n",
    "for i in range(len(s)):\n",
    "    ss.append(s[i])\n",
    "for i in ss:\n",
    "    if i not in d:\n",
    "        d[i]=0\n",
    "    if i in d:\n",
    "        d[i]+=1\n",
    "res = {val[0] : val[1] for val in sorted(d.items(), key = lambda x: (-x[1], x[0]))}\n",
    "i=0\n",
    "for k,v in res.items():\n",
    "    if i < 3:\n",
    "        print(k,v)\n",
    "        i+=1\n"
   ]
  },
  {
   "cell_type": "markdown",
   "id": "0a494256",
   "metadata": {},
   "source": [
    "### Piling Up!"
   ]
  },
  {
   "cell_type": "code",
   "execution_count": null,
   "id": "d88d9cd8",
   "metadata": {},
   "outputs": [],
   "source": [
    "# Enter your code here. Read input from STDIN. Print output to STDOUT\n",
    "from collections import deque\n",
    "for i in range(int(input())):\n",
    "    n=int(input())\n",
    "    blocks=deque(map(int,input().split()))\n",
    "    bottom=max(blocks[0],blocks[-1])\n",
    "    #blocks.remove(max(blocks[0],blocks[-1]))\n",
    "    for j in range(n):\n",
    "        if max(blocks[0],blocks[-1]) <= bottom:\n",
    "            bottom=max(blocks[0],blocks[-1])\n",
    "            if max(blocks[0],blocks[-1]) == blocks[0]:\n",
    "                blocks.popleft()\n",
    "            else:\n",
    "                blocks.pop()\n",
    "    if len(blocks) == 0:\n",
    "        print('Yes')\n",
    "    else:\n",
    "        print('No')"
   ]
  },
  {
   "cell_type": "markdown",
   "id": "0508e448",
   "metadata": {},
   "source": [
    "## *Date and Time (all – total: 2 - max points: 40)*"
   ]
  },
  {
   "cell_type": "markdown",
   "id": "0b770a04",
   "metadata": {},
   "source": [
    "### Calendar Module"
   ]
  },
  {
   "cell_type": "code",
   "execution_count": null,
   "id": "792fa4d9",
   "metadata": {},
   "outputs": [],
   "source": [
    "# Enter your code here. Read input from STDIN. Print output to STDOUT\n",
    "import calendar\n",
    "month, day, year=input().split()\n",
    "n=calendar.weekday(int(year),int(month),int(day))\n",
    "if n==0:\n",
    "    print('MONDAY')\n",
    "if n==1:\n",
    "    print('TUESDAY')\n",
    "if n==2:\n",
    "    print('WEDNESDAY')\n",
    "if n==3:\n",
    "    print('THURSDAY')\n",
    "if n==4:\n",
    "    print('FRIDAY')\n",
    "if n==5:\n",
    "    print('SATURDAY')\n",
    "if n==6:\n",
    "    print('SUNDAY')\n"
   ]
  },
  {
   "cell_type": "markdown",
   "id": "82730267",
   "metadata": {},
   "source": [
    "### Time Delta"
   ]
  },
  {
   "cell_type": "code",
   "execution_count": null,
   "id": "0bda0f7c",
   "metadata": {},
   "outputs": [],
   "source": [
    "#!/bin/python3\n",
    "\n",
    "import math\n",
    "import os\n",
    "import random\n",
    "import re\n",
    "import sys\n",
    "import datetime\n",
    "\n",
    "# Complete the time_delta function below.\n",
    "def time_delta(t1, t2):\n",
    "    t11 = datetime.datetime.strptime(t1, '%a %d %b %Y %H:%M:%S %z')\n",
    "    t22 = datetime.datetime.strptime(t2, '%a %d %b %Y %H:%M:%S %z')\n",
    "    seconds = t11.timestamp() - t22.timestamp()\n",
    "    return str(int(abs(seconds)))\n",
    "\n",
    "t1='Fri 11 Feb 2078 00:05:21 +0400'\n",
    "t2='Mon 29 Dec 2064 03:33:48 -1100'\n",
    "time_delta(t1,t2)\n",
    "\n",
    "if __name__ == '__main__':\n",
    "    fptr = open(os.environ['OUTPUT_PATH'], 'w')\n",
    "\n",
    "    t = int(input())\n",
    "\n",
    "    for t_itr in range(t):\n",
    "        t1 = input()\n",
    "\n",
    "        t2 = input()\n",
    "\n",
    "        delta = time_delta(t1, t2)\n",
    "\n",
    "        fptr.write(delta + '\\n')\n",
    "\n",
    "    fptr.close()\n"
   ]
  },
  {
   "cell_type": "markdown",
   "id": "6f4694a1",
   "metadata": {},
   "source": [
    "## *Exceptions (only 1 - max points: 10)*"
   ]
  },
  {
   "cell_type": "markdown",
   "id": "cd09c889",
   "metadata": {},
   "source": [
    "### Exceptions"
   ]
  },
  {
   "cell_type": "code",
   "execution_count": null,
   "id": "6c4c436e",
   "metadata": {},
   "outputs": [],
   "source": [
    "# Enter your code here. Read input from STDIN. Print output to STDOUT\n",
    "T=int(input())\n",
    "for i in range(T):\n",
    "    a, b= input().split()\n",
    "    try: \n",
    "        print(int(a)//int(b))\n",
    "    except ZeroDivisionError as e:\n",
    "            print('Error Code:', e)\n",
    "    except ValueError as a:\n",
    "            print(\"Error Code:\", a)"
   ]
  },
  {
   "cell_type": "markdown",
   "id": "0b36addb",
   "metadata": {},
   "source": [
    "## *Built-ins (only 3 - max points: 80)*"
   ]
  },
  {
   "cell_type": "markdown",
   "id": "6645be95",
   "metadata": {},
   "source": [
    "### Zipped!"
   ]
  },
  {
   "cell_type": "code",
   "execution_count": null,
   "id": "25ec4a0b",
   "metadata": {},
   "outputs": [],
   "source": [
    "# Enter your code here. Read input from STDIN. Print output to STDOUT\n",
    "N, X= input().split()\n",
    "s=[]\n",
    "for i in range(int(X)):\n",
    "  s.append(list(map(float,input().split())))\n",
    "scores=list(zip(*s))\n",
    "for i in scores:\n",
    "    print(sum(i)/len(i))"
   ]
  },
  {
   "cell_type": "markdown",
   "id": "9ffd899d",
   "metadata": {},
   "source": [
    "### Athlete Sort"
   ]
  },
  {
   "cell_type": "code",
   "execution_count": null,
   "id": "2f2afff1",
   "metadata": {},
   "outputs": [],
   "source": [
    "#!/bin/python3\n",
    "\n",
    "import math\n",
    "import os\n",
    "import random\n",
    "import re\n",
    "import sys\n",
    "from collections import defaultdict\n",
    "\n",
    "\n",
    "\n",
    "if __name__ == '__main__':\n",
    "    nm = input().split()\n",
    "\n",
    "    n = int(nm[0])\n",
    "\n",
    "    m = int(nm[1])\n",
    "\n",
    "    arr = []\n",
    "\n",
    "    for _ in range(n):\n",
    "        arr.append(list(map(int, input().rstrip().split())))\n",
    "\n",
    "    k = int(input())\n",
    "\n",
    "d=[]\n",
    "sublist1=[]\n",
    "result=''\n",
    "for i in range(n):\n",
    "    for j in range(m):\n",
    "        sublist1.append(arr[i][j])\n",
    "    d.append(sublist1)\n",
    "    sublist1=[]\n",
    "x=sorted(d, key=lambda item: item[k])\n",
    "for i in x:\n",
    "    for j in i:\n",
    "        result+=str(j)+' '\n",
    "    print(result)\n",
    "    result=''\n"
   ]
  },
  {
   "cell_type": "markdown",
   "id": "63a2066f",
   "metadata": {},
   "source": [
    "### ginortS"
   ]
  },
  {
   "cell_type": "code",
   "execution_count": null,
   "id": "a2a06a6a",
   "metadata": {},
   "outputs": [],
   "source": [
    "# Enter your code here. Read input from STDIN. Print output to STDOUT\n",
    "s=input()\n",
    "low=[]\n",
    "up=[]\n",
    "odd_dig=[]\n",
    "even_dig=[]\n",
    "for i in range(len(s)):\n",
    "    if s[i].islower():\n",
    "        low.append(s[i])\n",
    "    if s[i].isupper():\n",
    "        up.append(s[i])\n",
    "    if s[i].isdigit():\n",
    "        if int(s[i]) % 2 == 0:\n",
    "            even_dig.append(s[i])\n",
    "        if int(s[i]) % 2 != 0:\n",
    "            odd_dig.append(s[i])\n",
    "result=''\n",
    "for i in sorted(low):\n",
    "    result+=str(i)\n",
    "for i in sorted(up):\n",
    "    result+=str(i)\n",
    "for i in sorted(odd_dig):\n",
    "    result+=str(i)\n",
    "for i in sorted(even_dig):\n",
    "    result+=str(i)\n",
    "print(result)"
   ]
  },
  {
   "cell_type": "markdown",
   "id": "2c2692d2",
   "metadata": {},
   "source": [
    "## *Python Functionals (only 1 - max points: 20)*"
   ]
  },
  {
   "cell_type": "markdown",
   "id": "ef669e1d",
   "metadata": {},
   "source": [
    "### Map and Lambda Function"
   ]
  },
  {
   "cell_type": "code",
   "execution_count": null,
   "id": "6339856a",
   "metadata": {},
   "outputs": [],
   "source": [
    "cube = lambda x: x*x*x# complete the lambda function \n",
    "\n",
    "def fibonacci(n):\n",
    "    # return a list of fibonacci numbers\n",
    "    if n == 0:\n",
    "        return []\n",
    "    if n == 1:\n",
    "        return [0]\n",
    "    if n > 1:\n",
    "        l=[0,1]\n",
    "        for i in range(2,n):\n",
    "            l.append(l[i-1]+l[i-2])\n",
    "        return(l)\n",
    "        "
   ]
  },
  {
   "cell_type": "markdown",
   "id": "89764e81",
   "metadata": {},
   "source": [
    "## *Regex and Parsing challenges (all – total: 17 - max points: 560)*"
   ]
  },
  {
   "cell_type": "markdown",
   "id": "61f1b3d0",
   "metadata": {},
   "source": [
    "### Detect Floating Point Number\n",
    "\n"
   ]
  },
  {
   "cell_type": "code",
   "execution_count": null,
   "id": "fb0529a6",
   "metadata": {},
   "outputs": [],
   "source": [
    "# Enter your code here. Read input from STDIN. Print output to STDOUT\n",
    "T=int(input())\n",
    "for i in range(T):\n",
    "    N=str(input())\n",
    "    if N == '0':\n",
    "        print(False)\n",
    "        continue\n",
    "    try:\n",
    "        float(N)\n",
    "        print(True)\n",
    "    except:\n",
    "        print(False)\n"
   ]
  },
  {
   "cell_type": "markdown",
   "id": "2902d57c",
   "metadata": {},
   "source": [
    "### Re.split()"
   ]
  },
  {
   "cell_type": "code",
   "execution_count": null,
   "id": "46256699",
   "metadata": {},
   "outputs": [],
   "source": [
    "regex_pattern = r\"\\,|\\.\"\t# Do not delete 'r'."
   ]
  },
  {
   "cell_type": "markdown",
   "id": "218d090c",
   "metadata": {},
   "source": [
    "### Group(), Groups() & Groupdict()"
   ]
  },
  {
   "cell_type": "code",
   "execution_count": null,
   "id": "55f44097",
   "metadata": {},
   "outputs": [],
   "source": [
    "# Enter your code here. Read input from STDIN. Print output to STDOUT\n",
    "import re\n",
    "s=input()\n",
    "t=re.search(r'([A-Za-z0-9]).{0}\\1{1,}|([a-zA-Z0-9]).+\\1{2,}',s)\n",
    "if (t):\n",
    "    print(t.group(1))\n",
    "else:\n",
    "    print (-1)\n"
   ]
  },
  {
   "cell_type": "markdown",
   "id": "5d99c710",
   "metadata": {},
   "source": [
    "### Re.findall() & Re.finditer()"
   ]
  },
  {
   "cell_type": "code",
   "execution_count": null,
   "id": "95c154b7",
   "metadata": {},
   "outputs": [],
   "source": [
    "# Enter your code here. Read input from STDIN. Print output to STDOUT\n",
    "import re\n",
    "s=input()\n",
    "pattern=r'(?<=[BCDFGHJKLMNPQRSTVXYZbcdfghjklmnpqrstvxyz\\-\\+])([aeiouAEIOU]{2,})(?=[BCDFGHJKLMNPQRSTVXYZbcdfghjklmnpqrstvxyz\\-\\+])'\n",
    "\n",
    "matches=re.findall(pattern,s,flags=re.IGNORECASE)\n",
    "if len(matches) != 0:\n",
    "    for i in matches:\n",
    "        print(i)\n",
    "else:\n",
    "    print(-1)\n",
    "\n",
    "# I did not know this (below), so i googled it:\n",
    "#(?<=(pattern))([pattern]) is syntax for look behind \n",
    "#([pattern])(?=[pattern]) is syntax for look forward \n",
    "#(?<=[pattern])([pattern])(?=[pattern]) is syntax for both look behind and look forward\n"
   ]
  },
  {
   "cell_type": "markdown",
   "id": "bab42cf5",
   "metadata": {},
   "source": [
    "### Re.start() & Re.end()"
   ]
  },
  {
   "cell_type": "code",
   "execution_count": null,
   "id": "f3c193c6",
   "metadata": {},
   "outputs": [],
   "source": [
    "# Enter your code here. Read input from STDIN. Print output to STDOUT\n",
    "import re\n",
    "s=input()\n",
    "k=str(input())\n",
    "for x in range(len(s)):\n",
    "    if s[x] == k[0] and x+len(k) <= len(s):\n",
    "        if re.search(k , s[x:x+len(k)]):\n",
    "            mat = re.search(k , s[x:x+len(k)])\n",
    "            print((mat.start()+x, mat.end()+x-1))\n",
    "if k not in s:\n",
    "    print((-1,-1))"
   ]
  },
  {
   "cell_type": "markdown",
   "id": "9f45f7bf",
   "metadata": {},
   "source": [
    "### Regex Substitution"
   ]
  },
  {
   "cell_type": "code",
   "execution_count": null,
   "id": "72b66e03",
   "metadata": {},
   "outputs": [],
   "source": [
    "# Enter your code here. Read input from STDIN. Print output to STDOUT\n",
    "import re\n",
    "for i in range(int(input())):\n",
    "    s=str(input())\n",
    "    for j in range(len(s)):\n",
    "        s=re.sub(' && ',' and ',s)\n",
    "        s=re.sub(' \\|\\| ', ' or ',s)\n",
    "    print(s)"
   ]
  },
  {
   "cell_type": "markdown",
   "id": "411b6124",
   "metadata": {},
   "source": [
    "### Validating Roman Numerals"
   ]
  },
  {
   "cell_type": "code",
   "execution_count": null,
   "id": "8acac67f",
   "metadata": {},
   "outputs": [],
   "source": [
    "regex_pattern = r\"^M{0,3}(CM|CD|D?C{0,3})(XC|XL|L?X{0,3})(IX|IV|V?I{0,3})$\"\t# Do not delete 'r'.\n"
   ]
  },
  {
   "cell_type": "markdown",
   "id": "73f7b630",
   "metadata": {},
   "source": [
    "### Validating phone numbers"
   ]
  },
  {
   "cell_type": "code",
   "execution_count": null,
   "id": "26901882",
   "metadata": {},
   "outputs": [],
   "source": [
    "# Enter your code here. Read input from STDIN. Print output to STDOUT\n",
    "import re\n",
    "N=int(input())\n",
    "for i in range(N):\n",
    "    num2=str(input())\n",
    "    num=re.findall(r'\\d',num2)\n",
    "    if len(num) == 10 and len(str(num2)) == len(num):\n",
    "        if num[0] == num2[0]:\n",
    "            if int(num2[0]) == 7 or int(num2[0]) == 8 or int(num2[0]) == 9:\n",
    "                print('YES')\n",
    "            else:\n",
    "                print('NO')\n",
    "        else:\n",
    "                print('NO')\n",
    "    else:\n",
    "                print('NO')\n"
   ]
  },
  {
   "cell_type": "markdown",
   "id": "61cb4d97",
   "metadata": {},
   "source": [
    "### Validating and Parsing Email Addresses"
   ]
  },
  {
   "cell_type": "code",
   "execution_count": null,
   "id": "1e72490f",
   "metadata": {},
   "outputs": [],
   "source": [
    "# Enter your code here. Read input from STDIN. Print output to STDOUT\n",
    "import re\n",
    "N=int(input())\n",
    "for i in range(N):\n",
    "    num=list(map(str,input().split()))\n",
    "    if re.match(r'<([a-zA-Z])([a-zA-Z0-9\\-\\.\\_]+)@([a-zA-Z]+)\\.([a-zA-Z]){0,3}>', num[1]):\n",
    "        print(' '.join(num))"
   ]
  },
  {
   "cell_type": "markdown",
   "id": "6dba89ae",
   "metadata": {},
   "source": [
    "### Hex Color Code"
   ]
  },
  {
   "cell_type": "code",
   "execution_count": null,
   "id": "2d496849",
   "metadata": {},
   "outputs": [],
   "source": [
    "# Enter your code here. Read input from STDIN. Print output to STDOUT\n",
    "import re\n",
    "N = int(input())\n",
    "first_string = \"\"\n",
    "for x in range(N):\n",
    "    string = input()\n",
    "    first_string += string\n",
    "search = re.findall(\"{([^}]*)}\", first_string, flags=re.M | re.I)\n",
    "data = [re.findall(r\"(#[a-f0-9]{3,6})\",x.strip(),flags=re.I) for x in search]\n",
    "codes = [print(y) for x in data for y in x]\n",
    "\n",
    "#I've googled this part: < re.findall(\"{([^}]*)}\", first_string, flags=re.M | re.I) > because i didn't know the flags"
   ]
  },
  {
   "cell_type": "markdown",
   "id": "eb6dd58a",
   "metadata": {},
   "source": [
    "### HTML Parser - Part 1"
   ]
  },
  {
   "cell_type": "code",
   "execution_count": null,
   "id": "d85c1a1a",
   "metadata": {},
   "outputs": [],
   "source": [
    "# Enter your code here. Read input from STDIN. Print output to STDOUT\n",
    "from html.parser import HTMLParser\n",
    "\n",
    "class MyHTMLParser(HTMLParser):\n",
    "    def handle_starttag(self, tag, attrs):\n",
    "        print(\"Start :\", tag)\n",
    "        if attrs:\n",
    "            for val in attrs:\n",
    "                print(\"->\",val[0],\">\",val[1])\n",
    "    def handle_endtag(self, tag):\n",
    "        print(\"End   :\", tag)\n",
    "    def handle_startendtag(self, tag, attrs):\n",
    "        print(\"Empty :\", tag)\n",
    "        if attrs:\n",
    "            for val in attrs:\n",
    "                print(\"->\",val[0],\">\",val[1])\n",
    "                \n",
    "parser = MyHTMLParser()\n",
    "n = int(input())\n",
    "if n >= 1:\n",
    "    res = ''.join(input().strip() for _ in range(n))\n",
    "parser.feed(res)\n",
    "\n",
    "# I didn't know very well HTML so i had to check some information on StackOverflow"
   ]
  },
  {
   "cell_type": "markdown",
   "id": "7fe8ad54",
   "metadata": {},
   "source": [
    "### HTML Parser - Part 2"
   ]
  },
  {
   "cell_type": "code",
   "execution_count": null,
   "id": "b53500ad",
   "metadata": {},
   "outputs": [],
   "source": [
    "from html.parser import HTMLParser\n",
    "\n",
    "class MyHTMLParser(HTMLParser):\n",
    "    def handle_comment(self, data):\n",
    "        if \"\\n\" in data:\n",
    "            print('>>> Multi-line Comment', data, sep='\\n')\n",
    "        else:\n",
    "            print('>>> Single-line Comment', data, sep='\\n')\n",
    "\n",
    "    def handle_data(self, data):\n",
    "        if data != '\\n':\n",
    "            print('>>> Data', data, sep='\\n')\n",
    "\n",
    "    def handle_starttag(self, tag, attrs):\n",
    "        pass\n",
    "\n",
    "    def handle_endtag(self, tag):\n",
    "        pass\n",
    "\n",
    "  \n",
    "html = \"\"       \n",
    "for i in range(int(input())):\n",
    "    html += input().rstrip()\n",
    "    html += '\\n'\n",
    "    \n",
    "parser = MyHTMLParser()\n",
    "parser.feed(html)\n",
    "parser.close()\n",
    "\n",
    "#Same as the previous one, but now i think i've understood how HTML works"
   ]
  },
  {
   "cell_type": "markdown",
   "id": "b5cbfcd0",
   "metadata": {},
   "source": [
    "### Detect HTML Tags, Attributes and Attribute Values"
   ]
  },
  {
   "cell_type": "code",
   "execution_count": null,
   "id": "d7e2ec60",
   "metadata": {},
   "outputs": [],
   "source": [
    "# Enter your code here. Read input from STDIN. Print output to STDOUT\n",
    "from html.parser import HTMLParser\n",
    "class MyHTMLParser(HTMLParser):\n",
    "    def handle_starttag(self, tag, attr):\n",
    "        print(tag)\n",
    "        [print('-> {} > {}'.format(*attr)) for attr in attr]\n",
    "        \n",
    "html = '\\n'.join([input() for i in range(int(input()))])\n",
    "parser = MyHTMLParser()\n",
    "parser.feed(html)\n",
    "parser.close()\n",
    "\n",
    "#This time i've only checked for '-> {} > {}'\n"
   ]
  },
  {
   "cell_type": "markdown",
   "id": "221ae6cb",
   "metadata": {},
   "source": [
    "### Validating UID"
   ]
  },
  {
   "cell_type": "code",
   "execution_count": null,
   "id": "294c7891",
   "metadata": {},
   "outputs": [],
   "source": [
    "# Enter your code here. Read input from STDIN. Print output to STDOUT\n",
    "import re\n",
    "pattern = r\"^(?=(?:.*[A-Z]){2})(?=(?:.*[0-9]){3})(?:([a-zA-Z0-9])(?!.*\\1)){10}$\"\n",
    "for k in range(int(input())):\n",
    "    if re.match(pattern, input()):\n",
    "        print(\"Valid\")  \n",
    "    else:\n",
    "        print(\"Invalid\")\n",
    "\n",
    "        #I've googled this: (?!.*\\1)\n"
   ]
  },
  {
   "cell_type": "markdown",
   "id": "b90281fe",
   "metadata": {},
   "source": [
    "### Validating Credit Card Numbers"
   ]
  },
  {
   "cell_type": "code",
   "execution_count": null,
   "id": "143a5b13",
   "metadata": {},
   "outputs": [],
   "source": [
    "# Enter your code here. Read input from STDIN. Print output to STDOUT\n",
    "import re\n",
    "for _ in range(int(input())):\n",
    "    s = input()\n",
    "    if re.match(r\"^[456]([\\d]{15}|[\\d]{3}(-[\\d]{4}){3})$\", s) and not re.search(r\"([\\d])\\1\\1\\1\", s.replace(\"-\", \"\")):\n",
    "        print(\"Valid\")\n",
    "    else:\n",
    "        print(\"Invalid\")\n",
    "    \n",
    "#I only googled how to code 'no 4 or more consecutive repeated digits', that means '\"([\\d])\\1\\1\\1\"'"
   ]
  },
  {
   "cell_type": "markdown",
   "id": "01642447",
   "metadata": {},
   "source": [
    "### Validating Postal Codes\n",
    "\n"
   ]
  },
  {
   "cell_type": "code",
   "execution_count": null,
   "id": "6f07dc3c",
   "metadata": {},
   "outputs": [],
   "source": [
    "regex_integer_in_range = r\"^[1-9]([0-9]{5})$\"\t# Do not delete 'r'.\n",
    "regex_alternating_repetitive_digit_pair = r\"(?=(\\d).\\1)\"\t# Do not delete 'r'.\n",
    "\n"
   ]
  },
  {
   "cell_type": "markdown",
   "id": "76084d05",
   "metadata": {},
   "source": [
    "### Matrix Script"
   ]
  },
  {
   "cell_type": "code",
   "execution_count": null,
   "id": "1984154e",
   "metadata": {},
   "outputs": [],
   "source": [
    "#!/bin/python3\n",
    "\n",
    "import math\n",
    "import os\n",
    "import random\n",
    "import re\n",
    "import sys\n",
    "\n",
    "\n",
    "first_multiple_input = input().rstrip().split()\n",
    "\n",
    "n = int(first_multiple_input[0])\n",
    "\n",
    "m = int(first_multiple_input[1])\n",
    "\n",
    "s, ans = [], \"\"\n",
    "for k in range(n): \n",
    "    s.append(list(input()))\n",
    "for i in range(m):\n",
    "  for j in range(n): \n",
    "    ans += s[j][i]\n",
    "print (re.sub('(?<=\\w)([^\\w]+)(?=\\w)', \" \", ans))\n",
    "\n",
    "#This one was tough, i gave a look to some tips for the pattern but the starter idea was correct"
   ]
  },
  {
   "cell_type": "markdown",
   "id": "2be9cae5",
   "metadata": {},
   "source": [
    "## *XML (all – total: 2 - max points: 40)*"
   ]
  },
  {
   "cell_type": "markdown",
   "id": "60d295ec",
   "metadata": {},
   "source": [
    "### XML 1 - Find the Score"
   ]
  },
  {
   "cell_type": "code",
   "execution_count": null,
   "id": "3c03001d",
   "metadata": {},
   "outputs": [],
   "source": [
    "def get_attr_number(node):\n",
    "    count=len(node.attrib)\n",
    "    for x in node:\n",
    "        if len(x) != 0:\n",
    "            for y in x:\n",
    "                count+=len(y.attrib)\n",
    "        else:\n",
    "            count+=len(x.attrib)\n",
    "    return count"
   ]
  },
  {
   "cell_type": "markdown",
   "id": "0ec9cd3e",
   "metadata": {},
   "source": [
    "### XML2 - Find the Maximum Depth"
   ]
  },
  {
   "cell_type": "code",
   "execution_count": null,
   "id": "ec41d1a1",
   "metadata": {},
   "outputs": [],
   "source": [
    "maxdepth = 0\n",
    "def depth(elem, level):\n",
    "    global maxdepth\n",
    "    if level+1 > maxdepth:\n",
    "        maxdepth=level+1\n",
    "    for i in elem:\n",
    "        depth(i,level+1)\n",
    "        \n",
    "        \n",
    "    # your code goes here"
   ]
  },
  {
   "cell_type": "markdown",
   "id": "5031a292",
   "metadata": {},
   "source": [
    "## *Closures and Decorations (all – total: 2 - max points: 60)*"
   ]
  },
  {
   "cell_type": "markdown",
   "id": "c2ecd1af",
   "metadata": {},
   "source": [
    "### Standardize Mobile Number Using Decorators"
   ]
  },
  {
   "cell_type": "code",
   "execution_count": null,
   "id": "13679157",
   "metadata": {},
   "outputs": [],
   "source": [
    "def wrapper(f):\n",
    "    def fun(l):\n",
    "        result=[]\n",
    "        for i in l:  #Check the numbers\n",
    "            if len(i) == 12:\n",
    "                new_numb='+91 '+str(i[2:7])+' '+str(i[7:])\n",
    "                result.append(new_numb)\n",
    "            if len(i) == 11:\n",
    "                new_numb='+91 '+str(i[1:6])+' '+str(i[6:])\n",
    "                result.append(new_numb)\n",
    "            if len(i) == 10:\n",
    "                new_numb='+91 '+str(i[:5])+' '+str(i[5:])\n",
    "                result.append(new_numb)\n",
    "            if len(i) == 13:\n",
    "                new_numb='+91 '+str(i[3:8])+' '+str(i[8:])\n",
    "                result.append(new_numb)\n",
    "        l=f(result)\n",
    "    return fun"
   ]
  },
  {
   "cell_type": "markdown",
   "id": "f3dae032",
   "metadata": {},
   "source": [
    "### Decorators 2 - Name Directory"
   ]
  },
  {
   "cell_type": "code",
   "execution_count": null,
   "id": "c11b7bb4",
   "metadata": {},
   "outputs": [],
   "source": [
    "def person_lister(f):\n",
    "    def inner(people):\n",
    "        return map(f, sorted(people, key=lambda person: int(person[2])))\n",
    "    return inner"
   ]
  },
  {
   "cell_type": "markdown",
   "id": "d691d56a",
   "metadata": {},
   "source": [
    "## *Numpy (all – total: 15 - max points: 300)*"
   ]
  },
  {
   "cell_type": "markdown",
   "id": "2daf11a0",
   "metadata": {},
   "source": [
    "### Arrays"
   ]
  },
  {
   "cell_type": "code",
   "execution_count": null,
   "id": "1f7c5683",
   "metadata": {},
   "outputs": [],
   "source": [
    "def arrays(arr):\n",
    "    # complete this function\n",
    "    # use numpy.array\n",
    "    new_arr=numpy.array(arr,float)[::-1]\n",
    "    return numpy.around(new_arr,1)"
   ]
  },
  {
   "cell_type": "markdown",
   "id": "41e05e13",
   "metadata": {},
   "source": [
    "### Shape and Reshape\n",
    "\n"
   ]
  },
  {
   "cell_type": "code",
   "execution_count": null,
   "id": "6b77c503",
   "metadata": {},
   "outputs": [],
   "source": [
    "# Enter your code here. Read input from STDIN. Print output to STDOUT\n",
    "import numpy as np\n",
    "arr=np.array(input().split(),int)\n",
    "print(arr.reshape(3,3))"
   ]
  },
  {
   "cell_type": "markdown",
   "id": "9b21c02d",
   "metadata": {},
   "source": [
    "### Transpose and Flatten"
   ]
  },
  {
   "cell_type": "code",
   "execution_count": null,
   "id": "30f9401e",
   "metadata": {},
   "outputs": [],
   "source": [
    "# Enter your code here. Read input from STDIN. Print output to STDOUT\n",
    "import numpy as np\n",
    "N,M=input().split()\n",
    "raw_arr=[]\n",
    "for i in range(int(N)):\n",
    "    raw_arr.append(input().split())\n",
    "arr=np.array(raw_arr,int)\n",
    "print(np.transpose(arr))\n",
    "print(arr.flatten())"
   ]
  },
  {
   "cell_type": "markdown",
   "id": "f39efb0b",
   "metadata": {},
   "source": [
    "### Concatenate"
   ]
  },
  {
   "cell_type": "code",
   "execution_count": null,
   "id": "e1c02229",
   "metadata": {},
   "outputs": [],
   "source": [
    "# Enter your code here. Read input from STDIN. Print output to STDOUT\n",
    "import numpy as np\n",
    "N,M,P =(input().split())\n",
    "raw_arr=[]\n",
    "for i in range(int(N)):\n",
    "    raw_arr.append(input().split())\n",
    "for i in range(int(M)):\n",
    "    raw_arr.append(input().split())\n",
    "arr=np.array(raw_arr,int)\n",
    "print(arr.reshape((int(N)+int(M)),int(P)))\n"
   ]
  },
  {
   "cell_type": "markdown",
   "id": "512e7da0",
   "metadata": {},
   "source": [
    "### Zeros and Ones"
   ]
  },
  {
   "cell_type": "code",
   "execution_count": null,
   "id": "2806d62d",
   "metadata": {},
   "outputs": [],
   "source": [
    "# Enter your code here. Read input from STDIN. Print output to STDOUT\n",
    "import numpy as np\n",
    "\n",
    "dim = list(map(int, input().split()))\n",
    "print(np.zeros((dim), np.int))\n",
    "print(np.ones((dim), np.int))\n"
   ]
  },
  {
   "cell_type": "markdown",
   "id": "bc0fccb1",
   "metadata": {},
   "source": [
    "### Eye and Identity"
   ]
  },
  {
   "cell_type": "code",
   "execution_count": null,
   "id": "d87ad4ff",
   "metadata": {},
   "outputs": [],
   "source": [
    "# Enter your code here. Read input from STDIN. Print output to STDOUT\n",
    "import numpy as np\n",
    "np.set_printoptions(legacy='1.13')\n",
    "dim=list(map(int,input().split()))\n",
    "print(np.eye(dim[0],dim[1]))"
   ]
  },
  {
   "cell_type": "markdown",
   "id": "cfd92c0d",
   "metadata": {},
   "source": [
    "### Array Mathematics"
   ]
  },
  {
   "cell_type": "code",
   "execution_count": null,
   "id": "0aa5aea9",
   "metadata": {},
   "outputs": [],
   "source": [
    "# Enter your code here. Read input from STDIN. Print output to STDOUT\n",
    "import numpy as np\n",
    "N,M=input().split()\n",
    "a=[]\n",
    "b=[]\n",
    "for i in range(int(N)):\n",
    "    a.append(input().split())\n",
    "for i in range(int(N)):\n",
    "    b.append(input().split())\n",
    "A=np.array(a,int)\n",
    "B=np.array(b,int)\n",
    "print(np.array(np.add(A,B)))\n",
    "print(np.array(np.subtract(A,B)))\n",
    "print(np.array(np.multiply(A,B)))\n",
    "print(np.array(np.array(A//B)))\n",
    "print(np.array(np.mod(A,B)))\n",
    "print(np.array(np.power(A,B)))"
   ]
  },
  {
   "cell_type": "markdown",
   "id": "1cd79fb8",
   "metadata": {},
   "source": [
    "### Floor, Ceil and Rint"
   ]
  },
  {
   "cell_type": "code",
   "execution_count": null,
   "id": "5a9f2dcd",
   "metadata": {},
   "outputs": [],
   "source": [
    "# Enter your code here. Read input from STDIN. Print output to STDOUT\n",
    "import numpy as np\n",
    "np.set_printoptions(legacy='1.13')\n",
    "arr=np.array(input().split(),float)\n",
    "print(np.floor(arr))\n",
    "print(np.ceil(arr))\n",
    "print(np.rint(arr))"
   ]
  },
  {
   "cell_type": "markdown",
   "id": "49734eb2",
   "metadata": {},
   "source": [
    "### Sum and Prod"
   ]
  },
  {
   "cell_type": "code",
   "execution_count": null,
   "id": "9fae0092",
   "metadata": {},
   "outputs": [],
   "source": [
    "# Enter your code here. Read input from STDIN. Print output to STDOUT\n",
    "import numpy as np\n",
    "N, M=input().split()\n",
    "raw_arr=[]\n",
    "for i in range(int(N)):\n",
    "    raw_arr.append(input().split())\n",
    "arr=np.array(raw_arr,int)\n",
    "print(np.prod(np.sum(arr, axis=0)))\n"
   ]
  },
  {
   "cell_type": "markdown",
   "id": "17e0564d",
   "metadata": {},
   "source": [
    "### Min and Max\n",
    "\n"
   ]
  },
  {
   "cell_type": "code",
   "execution_count": null,
   "id": "e35ad07b",
   "metadata": {},
   "outputs": [],
   "source": [
    "# Enter your code here. Read input from STDIN. Print output to STDOUT\n",
    "import numpy as np\n",
    "N,M=input().split()\n",
    "raw_arr=[]\n",
    "for i in range(int(N)):\n",
    "    raw_arr.append(input().split())\n",
    "print(np.max(np.min(np.array(raw_arr,int), axis=1)))"
   ]
  },
  {
   "cell_type": "markdown",
   "id": "425773db",
   "metadata": {},
   "source": [
    "### Mean, Var, and Std"
   ]
  },
  {
   "cell_type": "code",
   "execution_count": null,
   "id": "1d018fa8",
   "metadata": {},
   "outputs": [],
   "source": [
    "# Enter your code here. Read input from STDIN. Print output to STDOUT\n",
    "import numpy as np\n",
    "N,M=input().split()\n",
    "raw_arr=[]\n",
    "for i in range(int(N)):\n",
    "    raw_arr.append(input().split())\n",
    "arr=np.array(raw_arr,int)\n",
    "print(np.mean(arr,axis=1))\n",
    "print(np.var(arr,axis=0))\n",
    "print(np.around(np.std(arr,axis=None),11))\n"
   ]
  },
  {
   "cell_type": "markdown",
   "id": "d163dfbd",
   "metadata": {},
   "source": [
    "### Dot and Cross"
   ]
  },
  {
   "cell_type": "code",
   "execution_count": null,
   "id": "29d2633c",
   "metadata": {},
   "outputs": [],
   "source": [
    "# Enter your code here. Read input from STDIN. Print output to STDOUT\n",
    "import numpy as np\n",
    "N=int(input())\n",
    "a=[]\n",
    "b=[]\n",
    "for i in range(N):\n",
    "    a.append(input().split())\n",
    "for i in range(N):\n",
    "    b.append(input().split())\n",
    "\n",
    "A=np.array(a,int)\n",
    "B=np.array(b,int)\n",
    "print(np.matmul(A,B))"
   ]
  },
  {
   "cell_type": "markdown",
   "id": "b0186991",
   "metadata": {},
   "source": [
    "### Inner and Outer\n",
    "\n"
   ]
  },
  {
   "cell_type": "code",
   "execution_count": null,
   "id": "d2eed1e0",
   "metadata": {},
   "outputs": [],
   "source": [
    "# Enter your code here. Read input from STDIN. Print output to STDOUT\n",
    "import numpy as np\n",
    "A=np.array(input().split(),int)\n",
    "B=np.array(input().split(),int)\n",
    "print(np.inner(A,B))\n",
    "print(np.outer(A,B))\n"
   ]
  },
  {
   "cell_type": "markdown",
   "id": "1695ae02",
   "metadata": {},
   "source": [
    "### Polynomials"
   ]
  },
  {
   "cell_type": "code",
   "execution_count": null,
   "id": "daa7343c",
   "metadata": {},
   "outputs": [],
   "source": [
    "# Enter your code here. Read input from STDIN. Print output to STDOUT\n",
    "import numpy as np\n",
    "poly=(list(map(float,input().split())))\n",
    "x=int(input())\n",
    "print(np.polyval(poly,x))"
   ]
  },
  {
   "cell_type": "markdown",
   "id": "05ab71fe",
   "metadata": {},
   "source": [
    "### Linear Algebra"
   ]
  },
  {
   "cell_type": "code",
   "execution_count": null,
   "id": "f45de43f",
   "metadata": {},
   "outputs": [],
   "source": [
    "# Enter your code here. Read input from STDIN. Print output to STDOUT\n",
    "import numpy as np\n",
    "N=int(input())\n",
    "a=[]\n",
    "for i in range(N):\n",
    "    a.append(input().split())\n",
    "A=np.array(a,float)\n",
    "print(np.around(np.linalg.det(A),2))\n"
   ]
  },
  {
   "cell_type": "markdown",
   "id": "87721a62",
   "metadata": {},
   "source": []
  },
  {
   "cell_type": "markdown",
   "id": "595e4630",
   "metadata": {},
   "source": [
    "# **Problem 2**"
   ]
  },
  {
   "cell_type": "markdown",
   "id": "56b3b4c9",
   "metadata": {},
   "source": [
    "### Birthday Cake Candles"
   ]
  },
  {
   "cell_type": "code",
   "execution_count": null,
   "id": "4f3766da",
   "metadata": {},
   "outputs": [],
   "source": [
    "#!/bin/python3\n",
    "\n",
    "import math\n",
    "import os\n",
    "import random\n",
    "import re\n",
    "import sys\n",
    "\n",
    "#\n",
    "# Complete the 'birthdayCakeCandles' function below.\n",
    "#\n",
    "# The function is expected to return an INTEGER.\n",
    "# The function accepts INTEGER_ARRAY candles as parameter.\n",
    "#\n",
    "\n",
    "def birthdayCakeCandles(candles):\n",
    "    # Write your code here\n",
    "    count=0\n",
    "    ma=max(candles)\n",
    "    for i in candles:\n",
    "        if i == ma:\n",
    "            count=count+1\n",
    "    return count\n",
    "        \n",
    "\n",
    "if __name__ == '__main__':\n",
    "    fptr = open(os.environ['OUTPUT_PATH'], 'w')\n",
    "\n",
    "    candles_count = int(input().strip())\n",
    "\n",
    "    candles = list(map(int, input().rstrip().split()))\n",
    "\n",
    "    result = birthdayCakeCandles(candles)\n",
    "\n",
    "    fptr.write(str(result) + '\\n')\n",
    "\n",
    "    fptr.close()\n"
   ]
  },
  {
   "cell_type": "markdown",
   "id": "56cabc79",
   "metadata": {},
   "source": [
    "### Number Line Jumps"
   ]
  },
  {
   "cell_type": "code",
   "execution_count": null,
   "id": "bd35e3d7",
   "metadata": {},
   "outputs": [],
   "source": [
    "#!/bin/python3\n",
    "\n",
    "import math\n",
    "import os\n",
    "import random\n",
    "import re\n",
    "import sys\n",
    "\n",
    "#\n",
    "# Complete the 'kangaroo' function below.\n",
    "#\n",
    "# The function is expected to return a STRING.\n",
    "# The function accepts following parameters:\n",
    "#  1. INTEGER x1\n",
    "#  2. INTEGER v1\n",
    "#  3. INTEGER x2\n",
    "#  4. INTEGER v2\n",
    "#\n",
    "\n",
    "def kangaroo(x1, v1, x2, v2):\n",
    "    i=1\n",
    "    count=0\n",
    "    while count < 10000:\n",
    "        if (x1+i*v1)== (x2+i*v2):\n",
    "            return 'YES'\n",
    "            count=100001\n",
    "        else:\n",
    "            i+=1\n",
    "            count+=1\n",
    "    return 'NO'\n",
    "\n",
    "if __name__ == '__main__':\n",
    "    fptr = open(os.environ['OUTPUT_PATH'], 'w')\n",
    "\n",
    "    first_multiple_input = input().rstrip().split()\n",
    "\n",
    "    x1 = int(first_multiple_input[0])\n",
    "\n",
    "    v1 = int(first_multiple_input[1])\n",
    "\n",
    "    x2 = int(first_multiple_input[2])\n",
    "\n",
    "    v2 = int(first_multiple_input[3])\n",
    "\n",
    "    result = kangaroo(x1, v1, x2, v2)\n",
    "\n",
    "    fptr.write(result + '\\n')\n",
    "\n",
    "    fptr.close()\n"
   ]
  },
  {
   "cell_type": "markdown",
   "id": "7088a434",
   "metadata": {},
   "source": [
    "### Viral Advertising"
   ]
  },
  {
   "cell_type": "code",
   "execution_count": null,
   "id": "002c72f8",
   "metadata": {},
   "outputs": [],
   "source": [
    "#!/bin/python3\n",
    "\n",
    "import math\n",
    "import os\n",
    "import random\n",
    "import re\n",
    "import sys\n",
    "\n",
    "#\n",
    "# Complete the 'viralAdvertising' function below.\n",
    "#\n",
    "# The function is expected to return an INTEGER.\n",
    "# The function accepts INTEGER n as parameter.\n",
    "#\n",
    "\n",
    "def viralAdvertising(n):\n",
    "    # Write your code here\n",
    "    liked=2\n",
    "    cumulative=2\n",
    "    shared=5\n",
    "    if n==1:\n",
    "        return cumulative\n",
    "    if n > 1:\n",
    "        for i in range(1,n):\n",
    "            shared=liked*3\n",
    "            liked=shared//2\n",
    "            cumulative+=liked\n",
    "        return cumulative\n",
    "        \n",
    "        \n",
    "        \n",
    "if __name__ == '__main__':\n",
    "    fptr = open(os.environ['OUTPUT_PATH'], 'w')\n",
    "\n",
    "    n = int(input().strip())\n",
    "\n",
    "    result = viralAdvertising(n)\n",
    "\n",
    "    fptr.write(str(result) + '\\n')\n",
    "\n",
    "    fptr.close()"
   ]
  },
  {
   "cell_type": "markdown",
   "id": "c34af1c2",
   "metadata": {},
   "source": [
    "### Recursive Digit Sum\n",
    "\n"
   ]
  },
  {
   "cell_type": "code",
   "execution_count": null,
   "id": "e91ecbf5",
   "metadata": {},
   "outputs": [],
   "source": [
    "#!/bin/python3\n",
    "\n",
    "import math\n",
    "import os\n",
    "import random\n",
    "import re\n",
    "import sys\n",
    "#\n",
    "# Complete the 'superDigit' function below.\n",
    "#\n",
    "# The function is expected to return an INTEGER.\n",
    "# The function accepts following parameters:\n",
    "#  1. STRING n\n",
    "#  2. INTEGER k\n",
    "#\n",
    "\n",
    "def superDigit(n, k):\n",
    "    # Write your code here\n",
    "    count=0\n",
    "    while int(n) > 1000:\n",
    "        n=sum(map(int,str(n)))\n",
    "    for i in range(k):\n",
    "        count+=sum(map(int,str(n)))\n",
    "    if count < 10:\n",
    "        return count\n",
    "    else:\n",
    "        return superDigit(str(count),1)\n",
    "    \n",
    "\n",
    "if __name__ == '__main__':\n",
    "    fptr = open(os.environ['OUTPUT_PATH'], 'w')\n",
    "\n",
    "    first_multiple_input = input().rstrip().split()\n",
    "\n",
    "    n = first_multiple_input[0]\n",
    "\n",
    "    k = int(first_multiple_input[1])\n",
    "\n",
    "    result = superDigit(n, k)\n",
    "\n",
    "    fptr.write(str(result) + '\\n')\n",
    "\n",
    "    fptr.close()\n",
    " \n"
   ]
  },
  {
   "cell_type": "markdown",
   "id": "a5faa0a1",
   "metadata": {},
   "source": [
    "### Insertion Sort - Part 1"
   ]
  },
  {
   "cell_type": "code",
   "execution_count": null,
   "id": "1063dde4",
   "metadata": {},
   "outputs": [],
   "source": [
    "#!/bin/python3\n",
    "\n",
    "import math\n",
    "import os\n",
    "import random\n",
    "import re\n",
    "import sys\n",
    "\n",
    "#\n",
    "# Complete the 'insertionSort1' function below.\n",
    "#\n",
    "# The function accepts following parameters:\n",
    "#  1. INTEGER n\n",
    "#  2. INTEGER_ARRAY arr\n",
    "#\n",
    "\n",
    "def insertionSort1(n, arr):\n",
    "    # Write your code here\n",
    "    stored=arr[n-1]\n",
    "    for i in range(1,n):\n",
    "        if  arr[n-1-i] >= stored:\n",
    "            arr[n-i]=arr[n-1-i]\n",
    "            print(' '.join(map(str,arr)))\n",
    "        if arr[n-i-1] < stored:\n",
    "            arr[n-i]=stored\n",
    "            print(' '.join(map(str,arr)))\n",
    "            break\n",
    "    if stored < arr[0]:\n",
    "        arr[1]=arr[0]\n",
    "        arr[0]=stored\n",
    "        print(' '.join(map(str,arr)))\n",
    "\n",
    "if __name__ == '__main__':\n",
    "    n = int(input().strip())\n",
    "\n",
    "    arr = list(map(int, input().rstrip().split()))\n",
    "\n",
    "    insertionSort1(n, arr)\n"
   ]
  },
  {
   "cell_type": "markdown",
   "id": "84dcf628",
   "metadata": {},
   "source": [
    "### Insertion Sort - Part 2"
   ]
  },
  {
   "cell_type": "code",
   "execution_count": null,
   "id": "6f8d79e3",
   "metadata": {},
   "outputs": [],
   "source": [
    "#!/bin/python3\n",
    "\n",
    "import math\n",
    "import os\n",
    "import random\n",
    "import re\n",
    "import sys\n",
    "\n",
    "#\n",
    "# Complete the 'insertionSort2' function below.\n",
    "#\n",
    "# The function accepts following parameters:\n",
    "#  1. INTEGER n\n",
    "#  2. INTEGER_ARRAY arr\n",
    "#\n",
    "\n",
    "def insertionSort2(n, arr):\n",
    "    # Write your code here\n",
    "    for i in range(1,n):\n",
    "        count=0\n",
    "        x=arr[i]\n",
    "        for j in range(0,i):\n",
    "            if arr[i] > arr[j]:\n",
    "                count+=1\n",
    "            else:\n",
    "                pos=j\n",
    "                arr.remove(arr[i])\n",
    "                arr.insert(pos,x)\n",
    "                print(' '.join(map(str,arr)))\n",
    "        if count == i:\n",
    "            print(' '.join(map(str,arr)))\n",
    "\n",
    "if __name__ == '__main__':\n",
    "    n = int(input().strip())\n",
    "    \n",
    "    arr = list(map(int, input().rstrip().split()))\n",
    "\n",
    "    insertionSort2(n, arr)\n"
   ]
  }
 ],
 "metadata": {
  "kernelspec": {
   "display_name": "Python 3 (ipykernel)",
   "language": "python",
   "name": "python3"
  },
  "language_info": {
   "codemirror_mode": {
    "name": "ipython",
    "version": 3
   },
   "file_extension": ".py",
   "mimetype": "text/x-python",
   "name": "python",
   "nbconvert_exporter": "python",
   "pygments_lexer": "ipython3",
   "version": "3.9.7"
  }
 },
 "nbformat": 4,
 "nbformat_minor": 5
}
